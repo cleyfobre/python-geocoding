{
 "cells": [
  {
   "cell_type": "code",
   "execution_count": 32,
   "id": "f81f5f42-cf8a-4e5c-8ea1-c08e556d9689",
   "metadata": {},
   "outputs": [],
   "source": [
    "import geopandas as gpd\n",
    "import matplotlib as mpl\n",
    "import matplotlib.pyplot as plt\n",
    "import matplotlib.font_manager as fm\n",
    "from geopy.geocoders import Nominatim\n",
    "import gc\n",
    "import glob\n",
    "import geopandas as gpd\n",
    "import psycopg2\n",
    "from psycopg2 import sql\n",
    "from shapely.geometry import LineString, MultiLineString\n",
    "from shapely import wkb"
   ]
  },
  {
   "cell_type": "code",
   "execution_count": null,
   "id": "c907c44a-2b8c-4477-acf3-23d439d8c30d",
   "metadata": {},
   "outputs": [],
   "source": [
    "font_list = fm.findSystemFonts(fontpaths=None, fontext='ttf')\n",
    "[mpl.font_manager.FontProperties(fname=font).get_name() for font in font_list if 'Yu' in font]"
   ]
  },
  {
   "cell_type": "code",
   "execution_count": 45,
   "id": "605207c4-483b-4ba6-9303-46b7ccb69595",
   "metadata": {},
   "outputs": [
    {
     "name": "stdout",
     "output_type": "stream",
     "text": [
      "KTB빌딩, 업무지역 보행자거리, 여의도동, 여의동, 영등포구, 서울, 07326, 대한민국\n",
      "교촌리, 상주시, 경상북도, 37107, 대한민국\n"
     ]
    }
   ],
   "source": [
    "def geocoding_reverse(lat_lng_str): \n",
    "    geolocoder = Nominatim(user_agent = 'South Korea', timeout=None)\n",
    "    address = geolocoder.reverse(lat_lng_str)\n",
    "\n",
    "    return address\n",
    "    \n",
    "address = geocoding_reverse('37.524601, 126.923727')\n",
    "print(address)\n",
    "\n",
    "address = geocoding_reverse('36.5760732781656, 128.15935928504484')\n",
    "print(address)"
   ]
  },
  {
   "cell_type": "code",
   "execution_count": 33,
   "id": "073d95c0-0694-44e0-8ba8-df44c348104c",
   "metadata": {},
   "outputs": [],
   "source": [
    "plt.rcParams['font.family'] = 'Yu Gothic'"
   ]
  },
  {
   "cell_type": "code",
   "execution_count": 76,
   "id": "6cbab158-53a5-48d3-adde-ec17d965efa7",
   "metadata": {},
   "outputs": [],
   "source": [
    "geo = gpd.read_file(\"C:/Users/aid/workspace/private/geo-test/emd_20230729/emd.shp\", encoding='euc-kr')"
   ]
  },
  {
   "cell_type": "code",
   "execution_count": 77,
   "id": "340df387-c5cb-4623-9e5d-872eb3a796cc",
   "metadata": {},
   "outputs": [
    {
     "data": {
      "text/html": [
       "<div>\n",
       "<style scoped>\n",
       "    .dataframe tbody tr th:only-of-type {\n",
       "        vertical-align: middle;\n",
       "    }\n",
       "\n",
       "    .dataframe tbody tr th {\n",
       "        vertical-align: top;\n",
       "    }\n",
       "\n",
       "    .dataframe thead th {\n",
       "        text-align: right;\n",
       "    }\n",
       "</style>\n",
       "<table border=\"1\" class=\"dataframe\">\n",
       "  <thead>\n",
       "    <tr style=\"text-align: right;\">\n",
       "      <th></th>\n",
       "      <th>EMD_CD</th>\n",
       "      <th>EMD_ENG_NM</th>\n",
       "      <th>EMD_KOR_NM</th>\n",
       "      <th>geometry</th>\n",
       "    </tr>\n",
       "  </thead>\n",
       "  <tbody>\n",
       "    <tr>\n",
       "      <th>0</th>\n",
       "      <td>11110101</td>\n",
       "      <td>Cheongun-dong</td>\n",
       "      <td>청운동</td>\n",
       "      <td>POLYGON ((953700.022 1954605.065, 953693.871 1...</td>\n",
       "    </tr>\n",
       "    <tr>\n",
       "      <th>1</th>\n",
       "      <td>11110102</td>\n",
       "      <td>Singyo-dong</td>\n",
       "      <td>신교동</td>\n",
       "      <td>POLYGON ((953233.465 1953996.984, 953235.183 1...</td>\n",
       "    </tr>\n",
       "    <tr>\n",
       "      <th>2</th>\n",
       "      <td>11110103</td>\n",
       "      <td>Gungjeong-dong</td>\n",
       "      <td>궁정동</td>\n",
       "      <td>POLYGON ((953560.228 1954257.466, 953561.190 1...</td>\n",
       "    </tr>\n",
       "    <tr>\n",
       "      <th>3</th>\n",
       "      <td>11110104</td>\n",
       "      <td>Hyoja-dong</td>\n",
       "      <td>효자동</td>\n",
       "      <td>POLYGON ((953519.843 1953890.785, 953518.489 1...</td>\n",
       "    </tr>\n",
       "    <tr>\n",
       "      <th>4</th>\n",
       "      <td>11110105</td>\n",
       "      <td>Changseong-dong</td>\n",
       "      <td>창성동</td>\n",
       "      <td>POLYGON ((953516.123 1953734.362, 953516.526 1...</td>\n",
       "    </tr>\n",
       "    <tr>\n",
       "      <th>...</th>\n",
       "      <td>...</td>\n",
       "      <td>...</td>\n",
       "      <td>...</td>\n",
       "      <td>...</td>\n",
       "    </tr>\n",
       "    <tr>\n",
       "      <th>5060</th>\n",
       "      <td>51830310</td>\n",
       "      <td>Seo-myeon</td>\n",
       "      <td>서면</td>\n",
       "      <td>POLYGON ((1079287.552 2011045.570, 1079356.150...</td>\n",
       "    </tr>\n",
       "    <tr>\n",
       "      <th>5061</th>\n",
       "      <td>51830320</td>\n",
       "      <td>Sonyang-myeon</td>\n",
       "      <td>손양면</td>\n",
       "      <td>MULTIPOLYGON (((1102997.769 2009910.288, 11029...</td>\n",
       "    </tr>\n",
       "    <tr>\n",
       "      <th>5062</th>\n",
       "      <td>51830330</td>\n",
       "      <td>Hyeonbuk-myeon</td>\n",
       "      <td>현북면</td>\n",
       "      <td>MULTIPOLYGON (((1108475.024 2002913.557, 11084...</td>\n",
       "    </tr>\n",
       "    <tr>\n",
       "      <th>5063</th>\n",
       "      <td>51830340</td>\n",
       "      <td>Hyeonnam-myeon</td>\n",
       "      <td>현남면</td>\n",
       "      <td>MULTIPOLYGON (((1114466.017 1992227.421, 11145...</td>\n",
       "    </tr>\n",
       "    <tr>\n",
       "      <th>5064</th>\n",
       "      <td>51830350</td>\n",
       "      <td>Ganghyeon-myeon</td>\n",
       "      <td>강현면</td>\n",
       "      <td>MULTIPOLYGON (((1099133.051 2014106.791, 10991...</td>\n",
       "    </tr>\n",
       "  </tbody>\n",
       "</table>\n",
       "<p>5065 rows × 4 columns</p>\n",
       "</div>"
      ],
      "text/plain": [
       "        EMD_CD       EMD_ENG_NM EMD_KOR_NM  \\\n",
       "0     11110101    Cheongun-dong        청운동   \n",
       "1     11110102      Singyo-dong        신교동   \n",
       "2     11110103   Gungjeong-dong        궁정동   \n",
       "3     11110104       Hyoja-dong        효자동   \n",
       "4     11110105  Changseong-dong        창성동   \n",
       "...        ...              ...        ...   \n",
       "5060  51830310        Seo-myeon         서면   \n",
       "5061  51830320    Sonyang-myeon        손양면   \n",
       "5062  51830330   Hyeonbuk-myeon        현북면   \n",
       "5063  51830340   Hyeonnam-myeon        현남면   \n",
       "5064  51830350  Ganghyeon-myeon        강현면   \n",
       "\n",
       "                                               geometry  \n",
       "0     POLYGON ((953700.022 1954605.065, 953693.871 1...  \n",
       "1     POLYGON ((953233.465 1953996.984, 953235.183 1...  \n",
       "2     POLYGON ((953560.228 1954257.466, 953561.190 1...  \n",
       "3     POLYGON ((953519.843 1953890.785, 953518.489 1...  \n",
       "4     POLYGON ((953516.123 1953734.362, 953516.526 1...  \n",
       "...                                                 ...  \n",
       "5060  POLYGON ((1079287.552 2011045.570, 1079356.150...  \n",
       "5061  MULTIPOLYGON (((1102997.769 2009910.288, 11029...  \n",
       "5062  MULTIPOLYGON (((1108475.024 2002913.557, 11084...  \n",
       "5063  MULTIPOLYGON (((1114466.017 1992227.421, 11145...  \n",
       "5064  MULTIPOLYGON (((1099133.051 2014106.791, 10991...  \n",
       "\n",
       "[5065 rows x 4 columns]"
      ]
     },
     "execution_count": 77,
     "metadata": {},
     "output_type": "execute_result"
    }
   ],
   "source": [
    "geo"
   ]
  },
  {
   "cell_type": "code",
   "execution_count": 1,
   "id": "82113651-2876-4ad9-907b-05f385d9396e",
   "metadata": {},
   "outputs": [
    {
     "name": "stdin",
     "output_type": "stream",
     "text": [
      " 5\n",
      " L R U U\n"
     ]
    }
   ],
   "source": [
    "n = int(input())\n",
    "moves = input().split()"
   ]
  },
  {
   "cell_type": "code",
   "execution_count": 2,
   "id": "e2211082-a2d6-4abe-a642-e25fb5527b8e",
   "metadata": {},
   "outputs": [
    {
     "data": {
      "text/plain": [
       "5"
      ]
     },
     "execution_count": 2,
     "metadata": {},
     "output_type": "execute_result"
    }
   ],
   "source": [
    "n"
   ]
  },
  {
   "cell_type": "code",
   "execution_count": 3,
   "id": "98b7332c-6dea-4c01-9a68-7176fcb40fa3",
   "metadata": {},
   "outputs": [
    {
     "data": {
      "text/plain": [
       "['L', 'R', 'U', 'U']"
      ]
     },
     "execution_count": 3,
     "metadata": {},
     "output_type": "execute_result"
    }
   ],
   "source": [
    "moves"
   ]
  },
  {
   "cell_type": "code",
   "execution_count": 16,
   "id": "2d024a84-a12e-4c66-a36e-34278385b072",
   "metadata": {},
   "outputs": [],
   "source": [
    "# 처음 위치\n",
    "x, y = 1, 1"
   ]
  },
  {
   "cell_type": "code",
   "execution_count": 19,
   "id": "930d6085-9c45-49ea-83da-840068d0aa58",
   "metadata": {},
   "outputs": [],
   "source": [
    "# 상하좌우 이동\n",
    "dx = [0, 0, -1, 1]\n",
    "dy = [-1, 1, 0, 0]\n",
    "move_types = ['L', 'R', 'U', 'D']"
   ]
  },
  {
   "cell_type": "code",
   "execution_count": 20,
   "id": "eee03279-92f6-4534-be95-eccf406d3507",
   "metadata": {},
   "outputs": [
    {
     "name": "stdout",
     "output_type": "stream",
     "text": [
      "1 2\n"
     ]
    }
   ],
   "source": [
    "# 이동 계획을 하나씩 확인하기\n",
    "for move in moves:\n",
    "    # 이동 후 좌�� 구하기\n",
    "    for i in range(len(move_types)):\n",
    "        if move == move_types[i]:\n",
    "            nx = x + dx[i]\n",
    "            ny = y + dy[i]\n",
    "    # 공간을 벗어나는 경우 무시\n",
    "    if nx < 1 or ny < 1 or nx > n or ny > n:\n",
    "        continue\n",
    "    # 이동 수행\n",
    "    x, y = nx, ny\n",
    "\n",
    "print(x, y)"
   ]
  },
  {
   "cell_type": "code",
   "execution_count": 25,
   "id": "e264b4bc-01e0-4006-9b0d-387dc4cbc997",
   "metadata": {},
   "outputs": [
    {
     "name": "stdin",
     "output_type": "stream",
     "text": [
      " 11\n"
     ]
    },
    {
     "name": "stdout",
     "output_type": "stream",
     "text": [
      "20925\n"
     ]
    }
   ],
   "source": [
    "n = int(input())\n",
    "\n",
    "count = 0\n",
    "for hour in range(n + 1):\n",
    "    for minute in range(60):\n",
    "        for second in range(60):\n",
    "            if '3' in str(hour) + str(minute) + str(second):\n",
    "                count += 1\n",
    "\n",
    "print(count)"
   ]
  },
  {
   "cell_type": "code",
   "execution_count": 23,
   "id": "709c30de-afbf-4138-b81a-1b27643f3a01",
   "metadata": {},
   "outputs": [
    {
     "name": "stdin",
     "output_type": "stream",
     "text": [
      " 11\n"
     ]
    },
    {
     "name": "stdout",
     "output_type": "stream",
     "text": [
      "20925\n"
     ]
    }
   ],
   "source": [
    "N = int(input())\n",
    "count = 0\n",
    "for i in range(N+1):\n",
    "    for j in range(60):\n",
    "        for k in range(60):\n",
    "            if '3' in str(i)+str(j)+ str(k):\n",
    "                count += 1\n",
    "print(count)"
   ]
  },
  {
   "cell_type": "code",
   "execution_count": 26,
   "id": "9dc889b0-9c52-427e-9054-435f4c4f0291",
   "metadata": {},
   "outputs": [],
   "source": [
    "def fib_dp(n):\n",
    "    if n == 0:\n",
    "        return 0\n",
    "    elif n == 1:\n",
    "        return 1\n",
    "\n",
    "    fib_array = [0, 1]\n",
    "\n",
    "    for i in range(2, n+1):\n",
    "        num = fib_array[i-1] + fib_array[i-2]\n",
    "        fib_array.append(num)\n",
    "    return fib_array[n]"
   ]
  },
  {
   "cell_type": "code",
   "execution_count": 27,
   "id": "95c99c29-552e-4653-aa8c-c5692d9e3890",
   "metadata": {},
   "outputs": [
    {
     "name": "stdout",
     "output_type": "stream",
     "text": [
      "863 ns ± 17.1 ns per loop (mean ± std. dev. of 7 runs, 1,000,000 loops each)\n"
     ]
    }
   ],
   "source": [
    "%%timeit\n",
    "fib_dp(10)"
   ]
  },
  {
   "cell_type": "code",
   "execution_count": 29,
   "id": "05ff3cec-a8e4-4ff4-b567-15d65b855e8d",
   "metadata": {},
   "outputs": [
    {
     "name": "stdout",
     "output_type": "stream",
     "text": [
      "2\n",
      "3\n",
      "4\n",
      "5\n",
      "6\n",
      "7\n",
      "8\n",
      "9\n",
      "10\n"
     ]
    }
   ],
   "source": [
    "for i in range(2, 11):\n",
    "        print(i)"
   ]
  },
  {
   "cell_type": "code",
   "execution_count": 30,
   "id": "cbd5d2fa-941e-4752-8646-3b5fa383e5f8",
   "metadata": {
    "scrolled": true
   },
   "outputs": [
    {
     "data": {
      "text/plain": [
       "55"
      ]
     },
     "execution_count": 30,
     "metadata": {},
     "output_type": "execute_result"
    }
   ],
   "source": [
    "fib_dp(10)"
   ]
  },
  {
   "cell_type": "code",
   "execution_count": 5,
   "id": "803d47b9-bb8e-40e2-8d49-3b1660aaa595",
   "metadata": {},
   "outputs": [
    {
     "data": {
      "text/plain": [
       "['대한민국', '07326', '서울', '영등포구', '여의동', '여의도동', '여의대로']"
      ]
     },
     "execution_count": 5,
     "metadata": {},
     "output_type": "execute_result"
    }
   ],
   "source": [
    "test = ['여의대로', '여의도동', '여의동', '영등포구', '서울', '07326', '대한민국']\n",
    "test.reverse()\n",
    "test\n",
    "\n"
   ]
  },
  {
   "cell_type": "code",
   "execution_count": 19,
   "id": "e7b86e23-7561-479c-b086-bf7cfa695b45",
   "metadata": {},
   "outputs": [
    {
     "name": "stdout",
     "output_type": "stream",
     "text": [
      "address_location  신도림 성락교회, 신도림로, 신도림동, 구로구, 서울, 08201, 대한민국\n",
      "구  구로구\n",
      "동  신도림동\n",
      "나머지  신도림로 신도림 성락교회\n",
      "전체  구로구 신도림동 신도림로 신도림 성락교회\n"
     ]
    }
   ],
   "source": [
    "try:\n",
    "    geolocoder = Nominatim(user_agent = 'South Korea', timeout=None)\n",
    "    address_location = geolocoder.reverse('{0} {1}'.format(37.50895966803926,\t126.88050355781739))\n",
    "    print('address_location ', address_location)\n",
    "    address = address_location[0].split(', ')\n",
    "    address.reverse()\n",
    "    print('구 ', address[3])\n",
    "    print('동 ', address[4])\n",
    "    if address[5].endswith('동'):\n",
    "        print('나머지 ', ' '.join(address[6:]))\n",
    "        str = '{0} {1} '.format(address[3], address[4]) + ' '.join(address[6:])\n",
    "        print('전체 ', str)\n",
    "    else:\n",
    "        print('나머지 ', ' '.join(address[5:]))\n",
    "        str = ' '.join(address[3:])\n",
    "        print('전체 ', str)\n",
    "\n",
    "except:\n",
    "    print(\"geolocoder exception occurred\")"
   ]
  },
  {
   "cell_type": "code",
   "execution_count": 20,
   "id": "b3388d44-7c2f-4f28-ac57-3d207ac4952d",
   "metadata": {},
   "outputs": [
    {
     "data": {
      "text/plain": [
       "'\\nhello world\\n'"
      ]
     },
     "execution_count": 20,
     "metadata": {},
     "output_type": "execute_result"
    }
   ],
   "source": [
    "var = \"\"\"\n",
    "hello {0}\n",
    "\"\"\".format('world')\n",
    "var"
   ]
  }
 ],
 "metadata": {
  "kernelspec": {
   "display_name": "Python 3 (ipykernel)",
   "language": "python",
   "name": "python3"
  },
  "language_info": {
   "codemirror_mode": {
    "name": "ipython",
    "version": 3
   },
   "file_extension": ".py",
   "mimetype": "text/x-python",
   "name": "python",
   "nbconvert_exporter": "python",
   "pygments_lexer": "ipython3",
   "version": "3.11.4"
  }
 },
 "nbformat": 4,
 "nbformat_minor": 5
}
